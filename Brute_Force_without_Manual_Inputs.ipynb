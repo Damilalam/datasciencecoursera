{
  "nbformat": 4,
  "nbformat_minor": 0,
  "metadata": {
    "colab": {
      "name": "Brute Force without Manual Inputs.ipynb",
      "provenance": [],
      "collapsed_sections": [],
      "toc_visible": true,
      "include_colab_link": true
    },
    "kernelspec": {
      "name": "python3",
      "display_name": "Python 3"
    },
    "accelerator": "TPU"
  },
  "cells": [
    {
      "cell_type": "markdown",
      "metadata": {
        "id": "view-in-github",
        "colab_type": "text"
      },
      "source": [
        "<a href=\"https://colab.research.google.com/github/Damilalam/datasciencecoursera/blob/master/Brute_Force_without_Manual_Inputs.ipynb\" target=\"_parent\"><img src=\"https://colab.research.google.com/assets/colab-badge.svg\" alt=\"Open In Colab\"/></a>"
      ]
    },
    {
      "cell_type": "markdown",
      "metadata": {
        "id": "xuTGhWAM9uq4",
        "colab_type": "text"
      },
      "source": [
        "###Import Libraries"
      ]
    },
    {
      "cell_type": "code",
      "metadata": {
        "id": "SB0NYmmk9avZ",
        "colab_type": "code",
        "colab": {}
      },
      "source": [
        "## import libraries\n",
        "import itertools\n",
        "import math as m\n",
        "import pandas as pd\n",
        "import numpy as np\n",
        "import datetime"
      ],
      "execution_count": 0,
      "outputs": []
    },
    {
      "cell_type": "markdown",
      "metadata": {
        "id": "SuaTnOPh9zDv",
        "colab_type": "text"
      },
      "source": [
        "###Helper Function"
      ]
    },
    {
      "cell_type": "code",
      "metadata": {
        "id": "ymZou60D9mnu",
        "colab_type": "code",
        "colab": {}
      },
      "source": [
        "## Helper Functions\n",
        "\n",
        "#Find all combinations from a list of numbers that add up to a sum\n",
        "class combinator:\n",
        "    # param: candidates, a list of integers\n",
        "    # param: target, integer\n",
        "    # return: a list of lists of integers\n",
        "    def combinationSum(self, candidates, target):\n",
        "        candidates.sort()\n",
        "        res=[]\n",
        "        self.DFS(candidates,target,0,res,[])\n",
        "        return res\n",
        " \n",
        "    def DFS(self,candidates,target,start,res,intermedia):\n",
        "        if target==0:\n",
        "            res.append(intermedia)\n",
        "            return\n",
        "        for i in range(start,len(candidates)):\n",
        "            if target<candidates[i]:\n",
        "                return\n",
        "            self.DFS(candidates,target-candidates[i],i,res,intermedia+[candidates[i]])\n",
        "\n",
        "# Returns true if str[curr] does not matches with any of the characters after str[start]\n",
        "def shouldSwap(string, start, curr): \n",
        "\n",
        "\tfor i in range(start, curr): \n",
        "\t\tif string[i] == string[curr]: \n",
        "\t\t\treturn 0\n",
        "\treturn 1\n",
        "\n",
        "# Prints all distinct permutations in str[0..n-1] \n",
        "def findPermutations(string, index, n): \n",
        "\n",
        "\tif index >= n:\n",
        "\t\toutput.append(''.join(string))\n",
        "\t\treturn\n",
        "\n",
        "\tfor i in range(index, n): \n",
        "\n",
        "\t\t# Proceed further for str[i] only if it doesn't match with any of the characters after str[index] \n",
        "\t\tcheck = shouldSwap(string, index, i) \n",
        "\t\tif check: \n",
        "\t\t\tstring[index], string[i] = string[i], string[index] \n",
        "\t\t\tfindPermutations(string, index + 1, n) \n",
        "\t\t\tstring[index], string[i] = string[i], string[index] \n",
        "\n",
        "#Convert tuples into lists\n",
        "def extractDigits(lst): \n",
        "    return list(map(lambda el:el, lst))"
      ],
      "execution_count": 0,
      "outputs": []
    },
    {
      "cell_type": "markdown",
      "metadata": {
        "id": "CEpGh7mc-CCM",
        "colab_type": "text"
      },
      "source": [
        "###Input Variables"
      ]
    },
    {
      "cell_type": "code",
      "metadata": {
        "id": "04fPyK3K-As6",
        "colab_type": "code",
        "outputId": "1d3c0ceb-25db-41af-a448-bf58c61dae96",
        "colab": {
          "base_uri": "https://localhost:8080/",
          "height": 588
        }
      },
      "source": [
        "## Input Variables\n",
        "\n",
        "oh = 780 #operating hours\n",
        "bv = 30 #the banding unit used i.e. 30 mins\n",
        "st = 660\n",
        "date = \"2020-03-07\"\n",
        "breaksize = 30\n",
        "\n",
        "#screen dictionary\n",
        "sdict = {\"s1\":200, \"S2\":122, \"s3\":122, \"s4\":299, \"s5\":291, \"S6\":122, \"s7\":122, \"s8\":204}\n",
        "\n",
        "#Screen List\n",
        "slist = list(zip(list(sdict.keys()),list(sdict.values())))\n",
        "\n",
        "def getkey(item):\n",
        "    return item[1]\n",
        "\n",
        "#Rank screen list into snames\n",
        "slist = sorted(slist,key=getkey,reverse=True)\n",
        "snames = []\n",
        "for items in range(len(slist)):\n",
        "    snames.append(slist[items][0])\n",
        "\n",
        "#revenue dataframe for film in different screens\n",
        "rs = 10.72\n",
        "\n",
        "# prepare the timeband database\n",
        "xlfile = \"Showtime Model 7409 Location data.xlsx\"\n",
        "tbdb = pd.read_excel(xlfile,sheet_name=\"Time Slice ID\")\n",
        "tbdb['start_time'] = tbdb['TimeSlice_Start_Time']\n",
        "for t in range(len(tbdb['start_time'])):\n",
        "  tbdb['start_time'][t]=tbdb['TimeSlice_Start_Time'][t].hour*60+tbdb['TimeSlice_Start_Time'][t].minute\n",
        "tbdb.set_index([\"start_time\"],inplace=True)\n",
        "tbdb=tbdb.drop([\"TimeSlice_Description\", \"TimeSlice_Start_Time\",\"TimeSlice_End_Time\",'TimeSlice_Hour_12',\"TimeSlice_Hour_24\"],1)\n",
        "tbdict=tbdb.T.to_dict('list')\n",
        "\n",
        "#Prepare a film attendance database\n",
        "attendb = pd.read_excel(xlfile,sheet_name=\"Forecasting Attendance data\")\n",
        "for i in range(len(attendb['Conformed_Show_Date'])):\n",
        "  attendb['Conformed_Show_Date'][i] = attendb['Conformed_Show_Date'][i].date()\n",
        "\n",
        "#Create filmID-timeslice to attendance dictionary \n",
        "atdb = attendb[attendb[\"Conformed_Show_Date\"] == date]\n",
        "atdb['Film_ID'] = atdb['Film_ID'].astype(str)\n",
        "atdb['TimeSlice_ID'] = atdb['TimeSlice_ID'].astype(str)\n",
        "atdb['composite']=atdb['Film_ID']+str(\"-\")+atdb['TimeSlice_ID']\n",
        "atdb2 = atdb[['composite','Score']]\n",
        "atdb2.set_index(['composite'],inplace=True)\n",
        "atdb2['Score'] = atdb2['Score'].astype(int)\n",
        "atdict = atdb2.T.to_dict('list')\n",
        "zerodict = {}\n",
        "dv = [0]\n",
        "for i in range(1,49):\n",
        "  dk = \"00000-\"+str(i)\n",
        "  zerodict[dk] = dv\n",
        "atdict.update(zerodict)\n",
        "\n",
        "#Create film-id dictionary\n",
        "temp = attendb[attendb[\"Conformed_Show_Date\"] == date]\n",
        "fildb = temp[[\"Film_ID\",\"Film Title\"]]\n",
        "fildb[\"Film_ID\"]=fildb[\"Film_ID\"].astype(str)\n",
        "fildb.set_index(['Film_ID'],inplace=True)\n",
        "fildict = fildb.T.to_dict('list')\n",
        "fildict[\"00000\"] = ['Empty Timeslice']\n",
        "\n",
        "#Create the film dictionary with filmteam data\n",
        "xl = \"Filmteam.xlsx\"\n",
        "fdb = pd.read_excel(xl,sheet_name=\"Sheet1\")\n",
        "fdb['rtwtwb'] = fdb['rtwt']+breaksize\n",
        "fdb['brt'] = np.ceil(fdb['rtwtwb']/bv)*bv\n",
        "fdb['brt'] = fdb['brt'].astype(int)\n",
        "fdb['filmid'] = fdb['filmid'].astype(str)\n",
        "\n",
        "#Create bands list\n",
        "bands = fdb['brt'].unique()\n",
        "bands = sorted(list(bands))\n",
        "\n",
        "#Filtering film IDs for particular date\n",
        "filt = list(fildict.keys())\n",
        "fdb = fdb[fdb['filmid'].isin(filt)]\n",
        "\n",
        "#film dict preparation\n",
        "filmdict = {}\n",
        "for i in bands:\n",
        "  interimdb = fdb[fdb['brt'] == i]\n",
        "  dictval = list(interimdb['filmid'])\n",
        "  filmdict[i] = dictval\n",
        "filmdict[30] = ['00000']"
      ],
      "execution_count": 3,
      "outputs": [
        {
          "output_type": "stream",
          "text": [
            "/usr/local/lib/python3.6/dist-packages/ipykernel_launcher.py:31: SettingWithCopyWarning: \n",
            "A value is trying to be set on a copy of a slice from a DataFrame\n",
            "\n",
            "See the caveats in the documentation: https://pandas.pydata.org/pandas-docs/stable/user_guide/indexing.html#returning-a-view-versus-a-copy\n",
            "/usr/local/lib/python3.6/dist-packages/ipykernel_launcher.py:39: SettingWithCopyWarning: \n",
            "A value is trying to be set on a copy of a slice from a DataFrame\n",
            "\n",
            "See the caveats in the documentation: https://pandas.pydata.org/pandas-docs/stable/user_guide/indexing.html#returning-a-view-versus-a-copy\n",
            "/usr/local/lib/python3.6/dist-packages/ipykernel_launcher.py:43: SettingWithCopyWarning: \n",
            "A value is trying to be set on a copy of a slice from a DataFrame.\n",
            "Try using .loc[row_indexer,col_indexer] = value instead\n",
            "\n",
            "See the caveats in the documentation: https://pandas.pydata.org/pandas-docs/stable/user_guide/indexing.html#returning-a-view-versus-a-copy\n",
            "/usr/local/lib/python3.6/dist-packages/ipykernel_launcher.py:44: SettingWithCopyWarning: \n",
            "A value is trying to be set on a copy of a slice from a DataFrame.\n",
            "Try using .loc[row_indexer,col_indexer] = value instead\n",
            "\n",
            "See the caveats in the documentation: https://pandas.pydata.org/pandas-docs/stable/user_guide/indexing.html#returning-a-view-versus-a-copy\n",
            "/usr/local/lib/python3.6/dist-packages/ipykernel_launcher.py:45: SettingWithCopyWarning: \n",
            "A value is trying to be set on a copy of a slice from a DataFrame.\n",
            "Try using .loc[row_indexer,col_indexer] = value instead\n",
            "\n",
            "See the caveats in the documentation: https://pandas.pydata.org/pandas-docs/stable/user_guide/indexing.html#returning-a-view-versus-a-copy\n",
            "/usr/local/lib/python3.6/dist-packages/ipykernel_launcher.py:48: SettingWithCopyWarning: \n",
            "A value is trying to be set on a copy of a slice from a DataFrame.\n",
            "Try using .loc[row_indexer,col_indexer] = value instead\n",
            "\n",
            "See the caveats in the documentation: https://pandas.pydata.org/pandas-docs/stable/user_guide/indexing.html#returning-a-view-versus-a-copy\n",
            "/usr/local/lib/python3.6/dist-packages/ipykernel_launcher.py:60: SettingWithCopyWarning: \n",
            "A value is trying to be set on a copy of a slice from a DataFrame.\n",
            "Try using .loc[row_indexer,col_indexer] = value instead\n",
            "\n",
            "See the caveats in the documentation: https://pandas.pydata.org/pandas-docs/stable/user_guide/indexing.html#returning-a-view-versus-a-copy\n",
            "/usr/local/lib/python3.6/dist-packages/ipykernel_launcher.py:62: UserWarning: DataFrame columns are not unique, some columns will be omitted.\n"
          ],
          "name": "stderr"
        }
      ]
    },
    {
      "cell_type": "markdown",
      "metadata": {
        "id": "ISTLRMX--OFl",
        "colab_type": "text"
      },
      "source": [
        "###Pre-processing Variables"
      ]
    },
    {
      "cell_type": "code",
      "metadata": {
        "id": "z0cvosoN-Sz0",
        "colab_type": "code",
        "colab": {}
      },
      "source": [
        "## Pre-processed Variables\n",
        "#for band Combinator\n",
        "bands.sort()\n",
        "mn = bands[0]\n",
        "rb = int((mn/bv)) #recurring bands for combinator\n",
        "\n",
        "#For film combo generator\n",
        "#Inverting the film dictionary from timeband: film to film:timeband\n",
        "fdkeys = list(filmdict.keys())\n",
        "fdvalues = list(filmdict.values())\n",
        "inverted_filmdict={}\n",
        "for i in range(len(fdkeys)):\n",
        "    for j in range(len(fdvalues[i])):\n",
        "        inverted_filmdict[fdvalues[i][j]] = fdkeys[i]"
      ],
      "execution_count": 0,
      "outputs": []
    },
    {
      "cell_type": "markdown",
      "metadata": {
        "id": "ZYnyCuOo-bMi",
        "colab_type": "text"
      },
      "source": [
        "###Driver Codes"
      ]
    },
    {
      "cell_type": "code",
      "metadata": {
        "id": "36r1YLVu-_yX",
        "colab_type": "code",
        "colab": {}
      },
      "source": [
        "#Creating all possible combinations with the bands\n",
        "ex=combinator()\n",
        "interim = []\n",
        "out = []\n",
        "\n",
        "for i in range(rb):\n",
        "    oh = oh - i*bv\n",
        "    interim=ex.combinationSum(bands,oh)\n",
        "    if i>0:\n",
        "      for j in range(len(interim)):\n",
        "        interim[j].extend([bv]*i)\n",
        "    out.append(interim)\n",
        "\n",
        "# Flatten out list\n",
        "cand = []\n",
        "for sublist in out:\n",
        "    for item in sublist:\n",
        "        cand.append(item)\n",
        "\n",
        "# Turn into string combinations\n",
        "charcand = []\n",
        "for i in range(len(cand)):\n",
        "    charlist = [chr(item) for item in cand[i]]\n",
        "    charcand.append(charlist)\n",
        "\n",
        "# Find permutations for all the combinations\n",
        "output = []\n",
        "x = []\n",
        "for i in range(len(charcand)):\n",
        "        string = charcand[i]\n",
        "        n = len(charcand[i])\n",
        "        findPermutations(charcand[i], 0, n)\n",
        "\n",
        "# Turn back into integer list\n",
        "perm = []\n",
        "for item in output:\n",
        "\titem=list(item)\n",
        "\tinterim=[]\n",
        "\tfor i in item:\n",
        "\t\tinterim.append(ord(i))\n",
        "\tperm.append(interim)\n",
        "\n",
        "## Film combination generator\n",
        "#Preparing permutation list for cartesian product in list Y\n",
        "#Each element of Y will hold the possible film list instead of a banded runtime from the same index in perm\n",
        "Y=[]\n",
        "Z=[]\n",
        "for i in perm:\n",
        "    Z=[]\n",
        "    for j in i:\n",
        "        X = filmdict.get(j)\n",
        "        Z.append(X)\n",
        "    Y.append(Z)\n",
        "\n",
        "# Conducting the cartesian product\n",
        "combolist = []\n",
        "for i in Y:\n",
        "    for element in itertools.product(*i):\n",
        "        combolist.append(element)\n",
        "\n",
        "# Convert the combination tuples into lists\n",
        "for i in range(len(combolist)):\n",
        "    combolist[i]=extractDigits(list(combolist[i]))\n",
        "\n",
        "# Find total number of generated combinations\n",
        "c = len(combolist)"
      ],
      "execution_count": 0,
      "outputs": []
    },
    {
      "cell_type": "code",
      "metadata": {
        "id": "ZhY-X-1GgXA7",
        "colab_type": "code",
        "colab": {}
      },
      "source": [
        "# Create a new list rtlist for runtimes for each film combo in combo list\n",
        "rtlist = []\n",
        "\n",
        "for i in range(len(combolist)): #selecting single film combo from film combo list of lists\n",
        "    rtlist.append([]) #Initiate a new blank list\n",
        "    for j in range(len(combolist[i])): #selecting one film from film combo in combolist\n",
        "        rtlist[i].append(inverted_filmdict[combolist[i][j]]) #find rt for film and create runtime list\n",
        "\n",
        "#Create new list stlist for start times of each combinations\n",
        "stlist = []\n",
        "for i in range(len(combolist)): #selecting single film combo from film combo list of lists\n",
        "    stlist.append([]) #Initiate a new blank list\n",
        "    for j in range(len(combolist[i])): #selecting one film from film combo\n",
        "        if j == 0: #For the first movie, put the start time as start time of theater (st)\n",
        "            stlist[i].append(st)\n",
        "        else: #For subsequent movies add the runtime of current movie with starttime of movie run immediately before \n",
        "            stlist[i].append(stlist[i][j-1]+rtlist[i][j-1])\n",
        "\n",
        "#Create new tblist for timeslice IDs for attendance projections\n",
        "tblist = []\n",
        "for i in range(len(combolist)): #selecting single film combo from film combo list of lists\n",
        "    tblist.append([]) #Initiate a new blank list\n",
        "    for j in range(len(combolist[i])): #selecting one film from film combo\n",
        "        tblist[i].append(tbdict[stlist[i][j]][0]) #append the timeband of the starttime for the attendance lookup\n",
        "\n",
        "#Create a film-timeband composite list\n",
        "ftclist = []\n",
        "for i in range(len(combolist)): #selecting single film combo from film combo list of lists\n",
        "    ftclist.append([]) #Initiate a new blank list\n",
        "    for j in range(len(combolist[i])): #selecting one film from film combo in combolist\n",
        "        ftclist[i].append(combolist[i][j]+\"-\"+str(tblist[i][j])) #create composite key for attendance lookup"
      ],
      "execution_count": 0,
      "outputs": []
    },
    {
      "cell_type": "code",
      "metadata": {
        "id": "rF0T-gHB_fJw",
        "colab_type": "code",
        "outputId": "212d8300-2653-438e-9a60-d376c48168a0",
        "colab": {
          "base_uri": "https://localhost:8080/",
          "height": 151
        }
      },
      "source": [
        "#Initialize a filmslate\n",
        "filmslate = []\n",
        "slaterev = []\n",
        "\n",
        "#screen Loop starts\n",
        "for s in range(len(snames)):\n",
        "    #Create a new atlist for attendance projections\n",
        "    atlist=[]\n",
        "    for i in range(len(combolist)): #selecting single film combo from film combo list of lists\n",
        "        atlist.append([]) #Initiate a new blank list\n",
        "        for j in range(len(combolist[i])): #selecting one film from film combo\n",
        "            atlist[i].append(atdict[ftclist[i][j]][0]) #append the timeband of the starttime for the attendance lookup\n",
        "\n",
        "    # Update atlist based on screen capacity\n",
        "    for i in range(len(combolist)): #selecting single film combo from film combo list of lists\n",
        "        for j in range(len(combolist[i])): #selecting one film from film combo\n",
        "            if atlist[i][j] > sdict[snames[s]]:  #to be fixed when screen loop is setup\n",
        "                atlist[i][j] = sdict[snames[s]]\n",
        "\n",
        "    # Create revlist for projected revenue from each film\n",
        "    revlist=[]\n",
        "    for i in range(len(combolist)): #selecting single film combo from film combo list of lists\n",
        "        revlist.append([]) #Initiate a new blank list\n",
        "        for j in range(len(combolist[i])): #selecting one film from film combo\n",
        "            revlist[i].append(atlist[i][j]*rs) #Revenue projection list for film\n",
        "\n",
        "    #Create sumrev list for combination revenue\n",
        "    sumrev=[]\n",
        "    for i in range(len(combolist)): #selecting single film combo from film combo list of lists\n",
        "        sumrev.append(sum(revlist[i])) #find sum for each combinations\n",
        "\n",
        "    #Find the index of the max value\n",
        "    selindex = sumrev.index(max(sumrev))\n",
        "    slaterev.append(max(sumrev))\n",
        "\n",
        "    # Create a list of Titles\n",
        "    #Making a name list from Combolist\n",
        "    titlelist = []\n",
        "    for i in combolist[selindex]:\n",
        "      titlelist.append(fildict[i][0])\n",
        "\n",
        "    #Put first combination into filmslate\n",
        "    filmslate.append([])\n",
        "    filmslate[s].extend([snames[s],combolist[selindex], titlelist, rtlist[selindex], stlist[selindex], tblist[selindex], atlist[selindex], revlist[selindex]])\n",
        "\n",
        "\n",
        "    #create updated attendance Dictionary\n",
        "    for i in range(len(combolist[selindex])): #itering based on length of selected combination list\n",
        "        atdict[ftclist[selindex][i]][0] = atdict[ftclist[selindex][i]][0] - atlist[selindex][i]\n",
        "    print(\"Screen \"+str(s)+\" done\")\n",
        "#screen Loop ends"
      ],
      "execution_count": 7,
      "outputs": [
        {
          "output_type": "stream",
          "text": [
            "Screen 0 done\n",
            "Screen 1 done\n",
            "Screen 2 done\n",
            "Screen 3 done\n",
            "Screen 4 done\n",
            "Screen 5 done\n",
            "Screen 6 done\n",
            "Screen 7 done\n"
          ],
          "name": "stdout"
        }
      ]
    },
    {
      "cell_type": "code",
      "metadata": {
        "id": "RDGjKPer_ml7",
        "colab_type": "code",
        "outputId": "a818121d-2267-4066-95de-786eb31a3ffc",
        "colab": {
          "base_uri": "https://localhost:8080/",
          "height": 104
        }
      },
      "source": [
        "print(filmslate)\n",
        "print(slaterev)\n",
        "print(sum(slaterev))\n",
        "sumattend = []\n",
        "for i in range(len(filmslate)):\n",
        "    sumattend.append(sum(filmslate[i][5]))\n",
        "print(sum(sumattend))"
      ],
      "execution_count": 8,
      "outputs": [
        {
          "output_type": "stream",
          "text": [
            "[['s4', ['24412', '00000', '24412', '28216', '24412', '00000'], ['Onward', 'Empty Timeslice', 'Onward', 'The Call Of The Wild', 'Onward', 'Empty Timeslice'], [180, 30, 180, 150, 180, 30], [660, 840, 870, 1050, 1200, 1380], [11, 17, 18, 24, 29, 35], [129, 0, 108, 44, 154, 0], [1382.88, 0.0, 1157.76, 471.68, 1650.88, 0.0]], ['s5', ['00000', '00000', '24412', '24412', '28786', '24412'], ['Empty Timeslice', 'Empty Timeslice', 'Onward', 'Onward', 'Sonic The Hedgehog', 'Onward'], [30, 30, 180, 180, 150, 180], [660, 690, 720, 900, 1080, 1230], [11, 12, 13, 19, 25, 30], [0, 0, 78, 108, 65, 130], [0.0, 0.0, 836.1600000000001, 1157.76, 696.8000000000001, 1393.6000000000001]], ['s8', ['00000', '28786', '24412', '24412', '29001', '00000'], ['Empty Timeslice', 'Sonic The Hedgehog', 'Onward', 'Onward', 'The Invisible Man', 'Empty Timeslice'], [30, 150, 180, 180, 180, 30], [660, 690, 840, 1020, 1200, 1380], [11, 12, 17, 23, 29, 35], [0, 39, 93, 89, 145, 0], [0.0, 418.08000000000004, 996.96, 954.08, 1554.4, 0.0]], ['s1', ['28786', '28786', '28216', '28786', '24412'], ['Sonic The Hedgehog', 'Sonic The Hedgehog', 'The Call Of The Wild', 'Sonic The Hedgehog', 'Onward'], [150, 150, 150, 150, 180], [660, 810, 960, 1110, 1260], [11, 16, 21, 26, 31], [33, 52, 50, 79, 130], [353.76000000000005, 557.44, 536.0, 846.88, 1393.6000000000001]], ['S2', ['28216', '24412', '24412', '24412', '00000', '00000'], ['The Call Of The Wild', 'Onward', 'Onward', 'Onward', 'Empty Timeslice', 'Empty Timeslice'], [150, 180, 180, 180, 30, 30], [660, 810, 990, 1170, 1350, 1380], [11, 16, 22, 28, 34, 35], [29, 84, 70, 122, 0, 0], [310.88, 900.48, 750.4000000000001, 1307.8400000000001, 0.0, 0.0]], ['s3', ['00000', '24412', '00000', '29001', '24412', '28216'], ['Empty Timeslice', 'Onward', 'Empty Timeslice', 'The Invisible Man', 'Onward', 'The Call Of The Wild'], [30, 180, 30, 180, 180, 150], [660, 690, 870, 900, 1080, 1260], [11, 12, 18, 19, 25, 31], [0, 61, 0, 74, 122, 33], [0.0, 653.9200000000001, 0.0, 793.2800000000001, 1307.8400000000001, 353.76000000000005]], ['S6', ['32370', '28216', '24412', '28786', '28216'], ['Missing Link - Family Favourites', 'The Call Of The Wild', 'Onward', 'Sonic The Hedgehog', 'The Call Of The Wild'], [150, 150, 180, 150, 150], [660, 810, 960, 1140, 1290], [11, 16, 21, 27, 32], [27, 43, 108, 74, 25], [289.44, 460.96000000000004, 1157.76, 793.2800000000001, 268.0]], ['s7', ['00000', '00000', '28786', '29001', '24412', '29001'], ['Empty Timeslice', 'Empty Timeslice', 'Sonic The Hedgehog', 'The Invisible Man', 'Onward', 'The Invisible Man'], [30, 30, 150, 180, 180, 180], [660, 690, 720, 870, 1050, 1230], [11, 12, 13, 18, 24, 30], [0, 0, 41, 61, 104, 51], [0.0, 0.0, 439.52000000000004, 653.9200000000001, 1114.88, 546.72]]]\n",
            "[4663.200000000001, 4084.3200000000006, 3923.52, 3687.6800000000003, 3269.6000000000004, 3108.8000000000006, 2969.44, 2755.04]\n",
            "28461.6\n",
            "953\n"
          ],
          "name": "stdout"
        }
      ]
    }
  ]
}